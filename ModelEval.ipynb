{
  "nbformat": 4,
  "nbformat_minor": 0,
  "metadata": {
    "colab": {
      "provenance": [],
      "authorship_tag": "ABX9TyNHKwax8oXentOS8eZOSW8g",
      "include_colab_link": true
    },
    "kernelspec": {
      "name": "python3",
      "display_name": "Python 3"
    },
    "language_info": {
      "name": "python"
    }
  },
  "cells": [
    {
      "cell_type": "markdown",
      "metadata": {
        "id": "view-in-github",
        "colab_type": "text"
      },
      "source": [
        "<a href=\"https://colab.research.google.com/github/avichbe/mlops-home_ass/blob/main/ModelEval.ipynb\" target=\"_parent\"><img src=\"https://colab.research.google.com/assets/colab-badge.svg\" alt=\"Open In Colab\"/></a>"
      ]
    },
    {
      "cell_type": "markdown",
      "source": [
        "start with some nesscery libs to import and install"
      ],
      "metadata": {
        "id": "5hVjKvdOP-5a"
      }
    },
    {
      "cell_type": "code",
      "source": [
        "from transformers import AutoTokenizer, AutoModelForTokenClassification, pipeline\n",
        "import time\n",
        "from sklearn.metrics import precision_recall_fscore_support\n",
        "from datasets import load_metric"
      ],
      "metadata": {
        "id": "pdhadsoCBjpX"
      },
      "execution_count": 3,
      "outputs": []
    },
    {
      "cell_type": "markdown",
      "source": [
        "Load the dataset that will be the base to the evaluation. Becasue of the data structure I divied it to word, label - sentecne\n",
        "and aggregate all as sentences."
      ],
      "metadata": {
        "id": "0cUMaONPAZF6"
      }
    },
    {
      "cell_type": "code",
      "execution_count": 17,
      "metadata": {
        "colab": {
          "base_uri": "https://localhost:8080/"
        },
        "id": "8ItvvIS8AD_R",
        "outputId": "a4bc9770-846e-4ddd-c2f1-792aceb1cb8c"
      },
      "outputs": [
        {
          "output_type": "stream",
          "name": "stdout",
          "text": [
            "Loaded 5251 sentences from the dataset.\n"
          ]
        }
      ],
      "source": [
        "def load_data(file_path):\n",
        "    sentences = []\n",
        "    sentence = []\n",
        "\n",
        "    with open(file_path, 'r') as file:\n",
        "        for line in file:\n",
        "            line = line.strip()\n",
        "            if line:\n",
        "                if len(line.split()) == 2:\n",
        "                    word, label = line.split()\n",
        "                    sentence.append((word, label))\n",
        "                else:\n",
        "                    continue\n",
        "            else:\n",
        "                if sentence:\n",
        "                    sentences.append(sentence)\n",
        "                    sentence = []\n",
        "        if sentence:\n",
        "            sentences.append(sentence)\n",
        "\n",
        "    return sentences\n",
        "\n",
        "# Load the dataset from '/content/test.txt'\n",
        "sentences = load_data('/content/train.txt')\n",
        "print(f\"Loaded {len(sentences)} sentences from the dataset.\")"
      ]
    },
    {
      "cell_type": "markdown",
      "source": [
        "After loading the data, I want to preprocsses it."
      ],
      "metadata": {
        "id": "XtNiAG8LA1CA"
      }
    },
    {
      "cell_type": "code",
      "source": [
        "# Prepare data for evaluation\n",
        "def prepare_data(sentences):\n",
        "    texts = [' '.join([word for word, tag in sentence]) for sentence in sentences]\n",
        "    true_entities = [[tag for word, tag in sentence] for sentence in sentences]\n",
        "    return texts, true_entities\n"
      ],
      "metadata": {
        "id": "icT5S-P4BR7Y"
      },
      "execution_count": 20,
      "outputs": []
    },
    {
      "cell_type": "markdown",
      "source": [
        "now my main goal was to take what the model retrive as prediction vs what given in in test/valid file.\n",
        "then put it in sklearn.metrics and calculate the precision, recall and f1 score.\n",
        "I realy dont get it why but in the end the code that I wrote didn't work and the time ended.\n"
      ],
      "metadata": {
        "id": "yDBMpSypVuH8"
      }
    }
  ]
}